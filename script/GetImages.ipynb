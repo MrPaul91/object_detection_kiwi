{
 "cells": [
  {
   "cell_type": "code",
   "execution_count": 12,
   "metadata": {},
   "outputs": [],
   "source": [
    "import json\n",
    "import urllib.request\n",
    "import os"
   ]
  },
  {
   "cell_type": "code",
   "execution_count": 13,
   "metadata": {},
   "outputs": [],
   "source": [
    "#Getting annotations file names\n",
    "files = !ls /home/sebastian/Documentos/Vision/Kiwi_Project/annotations\n",
    "path = '/home/sebastian/Documentos/Vision/Kiwi_Project/annotations/'\n",
    "savePath = '/home/sebastian/Documentos/Vision/Kiwi_Project/images/'"
   ]
  },
  {
   "cell_type": "code",
   "execution_count": 14,
   "metadata": {
    "scrolled": false
   },
   "outputs": [],
   "source": [
    "for fname in files:   \n",
    "    with open(path + fname) as json_file: \n",
    "        \n",
    "        data = json.load(json_file)\n",
    "        directory = fname.split('.')[0]\n",
    "        \n",
    "        createPath = savePath + directory + '/'\n",
    "        os.mkdir(createPath)\n",
    "        \n",
    "        for image in data:\n",
    "            url = image['url']\n",
    "            name = url.split('/')[-1]\n",
    "            urllib.request.urlretrieve(url, createPath + name) \n",
    "    "
   ]
  }
 ],
 "metadata": {
  "kernelspec": {
   "display_name": "Python 3",
   "language": "python",
   "name": "python3"
  },
  "language_info": {
   "codemirror_mode": {
    "name": "ipython",
    "version": 3
   },
   "file_extension": ".py",
   "mimetype": "text/x-python",
   "name": "python",
   "nbconvert_exporter": "python",
   "pygments_lexer": "ipython3",
   "version": "3.6.7"
  }
 },
 "nbformat": 4,
 "nbformat_minor": 2
}

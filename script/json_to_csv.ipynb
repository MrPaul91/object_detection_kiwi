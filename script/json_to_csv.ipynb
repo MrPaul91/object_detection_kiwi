{
 "cells": [
  {
   "cell_type": "code",
   "execution_count": 34,
   "metadata": {},
   "outputs": [],
   "source": [
    "import json\n",
    "import os\n",
    "import csv"
   ]
  },
  {
   "cell_type": "code",
   "execution_count": 35,
   "metadata": {},
   "outputs": [],
   "source": [
    "files = !ls /home/sebastian/Documentos/Vision/Kiwi_Project/annotations\n",
    "path = '/home/sebastian/Documentos/Vision/Kiwi_Project/annotations/'\n",
    "savePath = '/home/sebastian/Documentos/Vision/Kiwi_Project/CSV/'\n",
    "width = \"640\"\n",
    "height = \"480\""
   ]
  },
  {
   "cell_type": "code",
   "execution_count": 46,
   "metadata": {},
   "outputs": [],
   "source": [
    "for fname in files:   \n",
    "    with open(path + fname) as json_file:\n",
    "        \n",
    "        data = json.load(json_file)\n",
    "        directory = fname.split('.')[0]\n",
    "        \n",
    "        createPath = savePath + directory + \".csv\"\n",
    "        \n",
    "        with open(createPath, \"w\") as csvfile:\n",
    "            \n",
    "            filewriter = csv.writer(csvfile, delimiter=',',\n",
    "                            quotechar='|', quoting=csv.QUOTE_MINIMAL)\n",
    "            \n",
    "            filewriter.writerow(['filename', 'width', 'height', 'class', 'xmin', 'ymin', 'xmax', 'ymax'])\n",
    "            \n",
    "            for image in data:\n",
    "\n",
    "                url = image['url']\n",
    "                name = url.split('/')[-1]\n",
    "\n",
    "\n",
    "                if image['labels'] != None:\n",
    "\n",
    "                    for label in image['labels']:\n",
    "\n",
    "                        category = label['category']\n",
    "                        xmin = label['box2d']['x1']\n",
    "                        ymin = label['box2d']['y1']\n",
    "                        xmax = label['box2d']['x2']\n",
    "                        ymax = label['box2d']['y2']\n",
    "\n",
    "                        l = [name, width, height, category, xmin, ymin, xmax, ymax]\n",
    "                        filewriter.writerow(l)"
   ]
  }
 ],
 "metadata": {
  "kernelspec": {
   "display_name": "Python 3",
   "language": "python",
   "name": "python3"
  },
  "language_info": {
   "codemirror_mode": {
    "name": "ipython",
    "version": 3
   },
   "file_extension": ".py",
   "mimetype": "text/x-python",
   "name": "python",
   "nbconvert_exporter": "python",
   "pygments_lexer": "ipython3",
   "version": "3.6.7"
  }
 },
 "nbformat": 4,
 "nbformat_minor": 2
}
